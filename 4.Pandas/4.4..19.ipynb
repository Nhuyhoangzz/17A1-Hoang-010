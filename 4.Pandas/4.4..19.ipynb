{
 "cells": [
  {
   "cell_type": "code",
   "execution_count": 4,
   "metadata": {},
   "outputs": [
    {
     "name": "stdout",
     "output_type": "stream",
     "text": [
      "Ser1 sau khi loại bỏ các mục trong ser2:\n",
      "0    1\n",
      "1    2\n",
      "2    3\n",
      "dtype: int64\n",
      "\n",
      "Tất cả các mục của ser1 và ser2 không nằm chung:\n",
      "0    1\n",
      "1    2\n",
      "2    3\n",
      "2    6\n",
      "3    7\n",
      "4    8\n",
      "dtype: int64\n"
     ]
    }
   ],
   "source": [
    "#4.4\n",
    "\n",
    "import pandas as pd\n",
    "ser1=pd.Series([1,2,3,4,5])\n",
    "ser2=pd.Series([4,5,6,7,8])\n",
    "\n",
    "#Từ ser1 hãy xóa các mục trong ser2\n",
    "ser1_sau_khi_loai_bo = ser1[~ser1.isin(ser2)]\n",
    "\n",
    "print(\"Ser1 sau khi loại bỏ các mục trong ser2:\")\n",
    "print(ser1_sau_khi_loai_bo)\n",
    "\n",
    "#Lấy tất cả các mục của ser1 và ser2 nhưng không nằm chung trong cả hai\n",
    "hop_nhat_khong_chung = pd.concat([ser1[~ser1.isin(ser2)], ser2[~ser2.isin(ser1)]])\n",
    "\n",
    "print(\"\\nTất cả các mục của ser1 và ser2 không nằm chung:\")\n",
    "print(hop_nhat_khong_chung)"
   ]
  },
  {
   "cell_type": "code",
   "execution_count": null,
   "metadata": {},
   "outputs": [],
   "source": [
    "\n",
    "#4.5\n",
    "import pandas as pd\n",
    "import numpy as np\n",
    "\n",
    "ser=pd.Series(np.random.normal(10,5,25))\n",
    "\n",
    "#1 giá trị tối thiểu của ser\n",
    "min_value=ser,min()\n",
    "print(\"giá trị tối thiểu của ser:\",min_value)\n",
    "#2 phần centile thứ 25 của ser.Đây là giá trị mà 25% các giá trị trong chuỗi nhỏ hơn hoặc bằng nó\n",
    "sorted_ser=ser.sort_values()\n",
    "index_25th_percentile=int(len(sorted_ser)*0,25)\n",
    "percentile_25=sorted_ser.iloc([index_25th_percentile])\n",
    "print(\"phần tử thứ 25 của ser:\",percentile_25)\n",
    "#3trung vị của ser\n",
    "median_value=ser.median()\n",
    "print(\"Trung vị của ser:\",median_value)\n",
    "#4 phần centile thứ 75\n",
    "percentile_75=ser.quantile(0.75)\n",
    "print(\"phàn centile thứ 75 của ser:\",percentile_75)\n",
    "#5 giá trị tối đa của ser\n",
    "max_value=ser.max()\n",
    "print(\"giá trị tối đa của ser:\",max_value)"
   ]
  },
  {
   "cell_type": "code",
   "execution_count": null,
   "metadata": {},
   "outputs": [],
   "source": [
    "#4.6\n",
    "import numpy as np \n",
    "import pandas as pd\n",
    "\n",
    "ser = pd.Series(np.take(list('abcdefgh'), np.random.randint(8, size = 30)))"
   ]
  },
  {
   "cell_type": "markdown",
   "metadata": {},
   "source": [
    "1. Giải thích ý nghĩa của đoạn code:\n",
    "Đoạn code này tạo ra một đối tượng Series có 30 phần tử, mỗi phần tử là một ký tự được chọn ngẫu nhiên từ danh sách 'a' đến 'h'. Đối tượng Series này sau đó có thể được sử dụng cho các phân tích hoặc các thao tác xử lý dữ liệu khác Pandas.\n"
   ]
  },
  {
   "cell_type": "markdown",
   "metadata": {},
   "source": [
    "2. Tính số lần xất hiện của mỗi giá trị duy nhất trong ser"
   ]
  },
  {
   "cell_type": "code",
   "execution_count": 2,
   "metadata": {},
   "outputs": [
    {
     "name": "stdout",
     "output_type": "stream",
     "text": [
      "b    9\n",
      "a    5\n",
      "d    5\n",
      "h    3\n",
      "c    2\n",
      "e    2\n",
      "g    2\n",
      "f    2\n",
      "dtype: int64\n"
     ]
    }
   ],
   "source": [
    "result = ser.value_counts()\n",
    "print(result)"
   ]
  },
  {
   "cell_type": "code",
   "execution_count": null,
   "metadata": {},
   "outputs": [],
   "source": [
    "#4.7\n",
    "import numpy as np\n",
    "import pandas as pd\n",
    "\n",
    "np.random.seed(100)\n",
    "ser = pd.Series(np.random.randint(1, 5, [12]))"
   ]
  },
  {
   "cell_type": "markdown",
   "metadata": {},
   "source": [
    "Giữ nguyên hai phần tử có tần suất cao nhất (top 2 most frequent items) và thay thế tất cả các phần tử còn lại bằng giá trị 'Other'"
   ]
  },
  {
   "cell_type": "markdown",
   "metadata": {},
   "source": []
  },
  {
   "cell_type": "code",
   "execution_count": 4,
   "metadata": {},
   "outputs": [
    {
     "name": "stdout",
     "output_type": "stream",
     "text": [
      "0         1\n",
      "1         1\n",
      "2         4\n",
      "3         4\n",
      "4         4\n",
      "5         4\n",
      "6         1\n",
      "7     Other\n",
      "8     Other\n",
      "9         1\n",
      "10    Other\n",
      "11    Other\n",
      "dtype: object\n"
     ]
    }
   ],
   "source": [
    "so_lan_xuat_hien = ser.value_counts()\n",
    "hai_gia_tri_cao_nhat = so_lan_xuat_hien.index[:2]\n",
    "\n",
    "ser_copy = ser.copy()\n",
    "ser_copy[~ser_copy.isin(hai_gia_tri_cao_nhat)] = 'Other'\n",
    "\n",
    "print(ser_copy)"
   ]
  },
  {
   "cell_type": "code",
   "execution_count": null,
   "metadata": {},
   "outputs": [],
   "source": [
    "#4.8\n",
    "import pandas as pd\n",
    "import numpy as np\n",
    "\n",
    "ser = pd.Series(np.random.random(20))"
   ]
  },
  {
   "cell_type": "markdown",
   "metadata": {},
   "source": [
    "Chia chuỗi dữ liệu(series) ser thành 10 phân vị bằng nhau (equal deciles) và thay thế các giá trị trong ser bằng tên của phân vị tương ứng"
   ]
  },
  {
   "cell_type": "code",
   "execution_count": 7,
   "metadata": {},
   "outputs": [
    {
     "name": "stdout",
     "output_type": "stream",
     "text": [
      "0      Decile_7\n",
      "1      Decile_9\n",
      "2      Decile_1\n",
      "3      Decile_6\n",
      "4      Decile_9\n",
      "5      Decile_3\n",
      "6      Decile_3\n",
      "7      Decile_1\n",
      "8      Decile_4\n",
      "9     Decile_10\n",
      "10     Decile_7\n",
      "11     Decile_2\n",
      "12     Decile_8\n",
      "13     Decile_4\n",
      "14     Decile_6\n",
      "15    Decile_10\n",
      "16     Decile_8\n",
      "17     Decile_5\n",
      "18     Decile_2\n",
      "19     Decile_5\n",
      "dtype: category\n",
      "Categories (10, object): ['Decile_1' < 'Decile_2' < 'Decile_3' < 'Decile_4' ... 'Decile_7' < 'Decile_8' < 'Decile_9' < 'Decile_10']\n"
     ]
    }
   ],
   "source": [
    "deciles = pd.qcut(ser, q=10, labels=[f'Decile_{i}' for i in range(1, 11)])\n",
    "print(deciles)"
   ]
  },
  {
   "cell_type": "code",
   "execution_count": 8,
   "metadata": {},
   "outputs": [],
   "source": [
    "#4.9\n",
    "ser = pd.Series(np.random.randint(1, 10, 35))\n",
    "#1. Ý nghĩa mã lệnh:\n",
    "# np.random.randint(1, 10, 35): Tạo một mảng numpy chứa 35 số nguyên ngẫu nhiên từ 1 đến 9.\n",
    "# pd.Series(...): Tạo một đối tượng Series từ mảng số nguyên vừa tạo.\n",
    "# Như vậy, đoạn mã này tạo ra một Series (ser) có 35 phần tử, mỗi phần tử là một số nguyên ngẫu nhiên từ 1 đến 9."
   ]
  },
  {
   "cell_type": "markdown",
   "metadata": {},
   "source": [
    "2. Định hình lại ser thành một DataFrame có 7 hàng và 5 cột\n"
   ]
  },
  {
   "cell_type": "code",
   "execution_count": 9,
   "metadata": {},
   "outputs": [],
   "source": [
    "import pandas as pd\n",
    "import numpy as np\n",
    "\n",
    "ser = pd.Series(np.random.randint(1, 10, 35))"
   ]
  },
  {
   "cell_type": "code",
   "execution_count": 10,
   "metadata": {},
   "outputs": [
    {
     "name": "stdout",
     "output_type": "stream",
     "text": [
      "   Col1  Col2  Col3  Col4  Col5\n",
      "0     6     8     7     7     3\n",
      "1     5     3     8     2     7\n",
      "2     7     1     8     3     4\n",
      "3     6     5     3     5     4\n",
      "4     8     1     1     6     7\n",
      "5     7     6     7     5     8\n",
      "6     4     3     4     9     8\n"
     ]
    }
   ],
   "source": [
    "df = pd.DataFrame(np.array(ser).reshape(7, 5), columns=['Col1', 'Col2', 'Col3', 'Col4', 'Col5'])\n",
    "print(df)"
   ]
  },
  {
   "cell_type": "code",
   "execution_count": null,
   "metadata": {},
   "outputs": [],
   "source": [
    "#4.10\n",
    "import pandas as pd\n",
    "import numpy as np\n",
    "\n",
    "ser = pd.Series(np.random.randint(1, 10, 7))"
   ]
  },
  {
   "cell_type": "markdown",
   "metadata": {},
   "source": [
    "Vị trí của các số là bội của 3 từ ser"
   ]
  },
  {
   "cell_type": "code",
   "execution_count": null,
   "metadata": {},
   "outputs": [],
   "source": [
    "indices_boi_cua_3 = ser.index[ser % 3 == 0]\n",
    "\n",
    "print(f\"Các số là bội của 3 có vị trí là: {list(indices_boi_cua_3)}\")"
   ]
  },
  {
   "cell_type": "code",
   "execution_count": 11,
   "metadata": {},
   "outputs": [],
   "source": [
    "#4.11\n",
    "import pandas as pd\n",
    "\n",
    "ser = pd.Series(list('abcdefghijklmnopqrstuvwxyz'))\n",
    "pos = [0, 4, 8, 14, 20]\n"
   ]
  },
  {
   "cell_type": "markdown",
   "metadata": {
    "slideshow": {
     "slide_type": "subslide"
    }
   },
   "source": [
    "Từ ser, trích xuất các mục tại các vị trí trong danh sách pos"
   ]
  },
  {
   "cell_type": "code",
   "execution_count": 12,
   "metadata": {},
   "outputs": [
    {
     "name": "stdout",
     "output_type": "stream",
     "text": [
      "0     a\n",
      "4     e\n",
      "8     i\n",
      "14    o\n",
      "20    u\n",
      "dtype: object\n"
     ]
    }
   ],
   "source": [
    "result = ser.iloc[pos]\n",
    "\n",
    "print(result)"
   ]
  },
  {
   "cell_type": "code",
   "execution_count": 13,
   "metadata": {},
   "outputs": [],
   "source": [
    "#4.12\n",
    "import pandas as pd\n",
    "\n",
    "ser1 = pd.Series(range(5))\n",
    "ser2 = pd.Series(list('abede'))\n",
    "\n",
    "pos = [0, 4, 3, 2, 1]"
   ]
  },
  {
   "cell_type": "code",
   "execution_count": 14,
   "metadata": {},
   "outputs": [
    {
     "name": "stdout",
     "output_type": "stream",
     "text": [
      "Kết quả theo chiều dọc:\n",
      "0    0\n",
      "4    4\n",
      "3    3\n",
      "2    2\n",
      "1    1\n",
      "dtype: object\n"
     ]
    }
   ],
   "source": [
    "ket_qua_doc = pd.concat([ser1, ser2], axis=0).iloc[pos]\n",
    "print(\"Kết quả theo chiều dọc:\")\n",
    "print(ket_qua_doc)"
   ]
  },
  {
   "cell_type": "code",
   "execution_count": 15,
   "metadata": {},
   "outputs": [
    {
     "name": "stdout",
     "output_type": "stream",
     "text": [
      "\n",
      "Kết quả theo chiều ngang:\n",
      "   0  1\n",
      "0  0  a\n",
      "1  1  b\n",
      "2  2  e\n",
      "3  3  d\n",
      "4  4  e\n"
     ]
    }
   ],
   "source": [
    "ket_qua_ngang = pd.concat([ser1, ser2], axis=1)\n",
    "print(\"\\nKết quả theo chiều ngang:\")\n",
    "print(ket_qua_ngang)"
   ]
  },
  {
   "cell_type": "code",
   "execution_count": null,
   "metadata": {},
   "outputs": [],
   "source": [
    "#4.13\n",
    "import pandas as pd\n",
    "\n",
    "ser1 = pd.Series([10, 9, 6, 5, 3, 1, 12, 8, 13])\n",
    "ser2 = pd.Series([1, 3, 10, 13])"
   ]
  },
  {
   "cell_type": "markdown",
   "metadata": {},
   "source": [
    "Lấy vị trí của các phần tử trong ser2 trong ser1 dưới dạng danh sách"
   ]
  },
  {
   "cell_type": "code",
   "execution_count": 17,
   "metadata": {},
   "outputs": [
    {
     "name": "stdout",
     "output_type": "stream",
     "text": [
      "Vị trí của các phần tử của ser2 trong ser1:\n",
      "[0, 4, 5, 8]\n"
     ]
    }
   ],
   "source": [
    "vi_tri_cac_muc_cua_ser2_trong_ser1 = ser1[ser1.isin(ser2)].index.tolist()\n",
    "\n",
    "print(\"Vị trí của các phần tử của ser2 trong ser1:\")\n",
    "print(vi_tri_cac_muc_cua_ser2_trong_ser1)"
   ]
  },
  {
   "cell_type": "code",
   "execution_count": 18,
   "metadata": {},
   "outputs": [],
   "source": [
    "#4.14\n",
    "import pandas as pd\n",
    "import numpy as np\n",
    "\n",
    "truth = pd.Series(range(10))\n",
    "pred = pd.Series(range(10)) + np.random.random(10)"
   ]
  },
  {
   "cell_type": "code",
   "execution_count": 19,
   "metadata": {},
   "outputs": [
    {
     "name": "stdout",
     "output_type": "stream",
     "text": [
      "Sai số bình phương trung bình: 0.2557420224882011\n"
     ]
    }
   ],
   "source": [
    "sai_so_binh_phuong = ((truth - pred) ** 2).mean()\n",
    "\n",
    "print(\"Sai số bình phương trung bình:\", sai_so_binh_phuong)"
   ]
  },
  {
   "cell_type": "code",
   "execution_count": 20,
   "metadata": {},
   "outputs": [],
   "source": [
    "#4.15\n",
    "import pandas as pd\n",
    "\n",
    "ser = pd.Series(['how', 'to', 'kick', 'ass?'])"
   ]
  },
  {
   "cell_type": "code",
   "execution_count": 21,
   "metadata": {},
   "outputs": [
    {
     "name": "stdout",
     "output_type": "stream",
     "text": [
      "Series sau khi chuyển đổi chữ cái đầu tiên thành chữ hoa:\n",
      "0     How\n",
      "1      To\n",
      "2    Kick\n",
      "3    Ass?\n",
      "dtype: object\n"
     ]
    }
   ],
   "source": [
    "ser_chu_hoa = ser.str.capitalize()\n",
    "\n",
    "print(\"Series sau khi chuyển đổi chữ cái đầu tiên thành chữ hoa:\")\n",
    "print(ser_chu_hoa)"
   ]
  },
  {
   "cell_type": "code",
   "execution_count": null,
   "metadata": {},
   "outputs": [],
   "source": [
    "#4.17\n",
    "import pandas as pd\n",
    "\n",
    "ser = pd.Series([1, 3, 6, 10, 15, 21, 27, 35])"
   ]
  },
  {
   "cell_type": "markdown",
   "metadata": {},
   "source": [
    " Tính hiệu số giữa các số liên tiếp trong Ser"
   ]
  },
  {
   "cell_type": "markdown",
   "metadata": {},
   "source": []
  },
  {
   "cell_type": "code",
   "execution_count": 23,
   "metadata": {},
   "outputs": [
    {
     "name": "stdout",
     "output_type": "stream",
     "text": [
      "Hiệu số giữa các số liên tiếp trong Series:\n",
      "0    NaN\n",
      "1    2.0\n",
      "2    3.0\n",
      "3    4.0\n",
      "4    5.0\n",
      "5    6.0\n",
      "6    6.0\n",
      "7    8.0\n",
      "dtype: float64\n"
     ]
    }
   ],
   "source": [
    "hieu_so_lien_tiep = ser.diff()\n",
    "\n",
    "print(\"Hiệu số giữa các số liên tiếp trong Series:\")\n",
    "print(hieu_so_lien_tiep)"
   ]
  },
  {
   "cell_type": "code",
   "execution_count": 24,
   "metadata": {},
   "outputs": [],
   "source": [
    "#4.18\n",
    "import pandas as pd\n",
    "\n",
    "emails = pd.Series(['buying books at amazom.com', 'rameses@egypt.com', 'matt@t.co', 'narendra@modi.com'])\n",
    "pattern = r'[A-Za-z0-9._%+-]+@[A-Za-z0-9.-]+\\.[A-Z|a-z]{2,4}'"
   ]
  },
  {
   "cell_type": "markdown",
   "metadata": {},
   "source": [
    "DIA CHI EMAIL HOP LE"
   ]
  },
  {
   "cell_type": "code",
   "execution_count": 25,
   "metadata": {},
   "outputs": [
    {
     "name": "stdout",
     "output_type": "stream",
     "text": [
      "Những địa chỉ email hợp lệ là:  1    rameses@egypt.com\n",
      "2            matt@t.co\n",
      "3    narendra@modi.com\n",
      "dtype: object\n"
     ]
    }
   ],
   "source": [
    "is_email = emails.str.contains(pattern)\n",
    "emails_hop_le = emails[is_email]\n",
    "\n",
    "print(\"Những địa chỉ email hợp lệ là: \",emails_hop_le)"
   ]
  },
  {
   "cell_type": "code",
   "execution_count": 26,
   "metadata": {},
   "outputs": [],
   "source": [
    "#4.19\n",
    "import numpy as np\n",
    "import pandas as pd\n",
    "\n",
    "fruit = pd.Series(np.random.choice(['apple', 'banana', 'carrot'], 10))\n",
    "weights = pd.Series(np.linspace(1, 10, 10))"
   ]
  },
  {
   "cell_type": "markdown",
   "metadata": {},
   "source": [
    "Tính khối lượng trung bình của từng loại quả"
   ]
  },
  {
   "cell_type": "code",
   "execution_count": 27,
   "metadata": {},
   "outputs": [
    {
     "name": "stdout",
     "output_type": "stream",
     "text": [
      "Khối lượng trung bình của từng loại quả là:  fruit\n",
      "apple     4.75\n",
      "banana    7.25\n",
      "carrot    3.50\n",
      "Name: weight, dtype: float64\n"
     ]
    }
   ],
   "source": [
    "df = pd.DataFrame({'fruit': fruit, 'weight': weights})\n",
    "khoi_luong_tb = df.groupby('fruit')['weight'].mean()\n",
    "\n",
    "print(\"Khối lượng trung bình của từng loại quả là: \", khoi_luong_tb)"
   ]
  }
 ],
 "metadata": {
  "kernelspec": {
   "display_name": "mci_env",
   "language": "python",
   "name": "python3"
  },
  "language_info": {
   "codemirror_mode": {
    "name": "ipython",
    "version": 3
   },
   "file_extension": ".py",
   "mimetype": "text/x-python",
   "name": "python",
   "nbconvert_exporter": "python",
   "pygments_lexer": "ipython3",
   "version": "3.8.17"
  }
 },
 "nbformat": 4,
 "nbformat_minor": 2
}
